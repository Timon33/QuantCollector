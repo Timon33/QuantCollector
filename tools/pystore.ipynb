{
 "cells": [
  {
   "cell_type": "code",
   "execution_count": 67,
   "metadata": {},
   "outputs": [],
   "source": [
    "import pystore\n",
    "import yfinance\n",
    "import pandas as pd\n",
    "import datetime\n",
    "import pytz"
   ]
  },
  {
   "cell_type": "code",
   "execution_count": 84,
   "metadata": {},
   "outputs": [
    {
     "name": "stdout",
     "output_type": "stream",
     "text": [
      "[*********************100%***********************]  1 of 1 completed\n"
     ]
    }
   ],
   "source": [
    "pystore.set_path(\"/mnt/store/data/pystore\")\n",
    "\n",
    "pystore.list_stores()\n",
    "store = pystore.store('quantcollector')\n",
    "\n",
    "test_data = yfinance.download(\"AAPL\")"
   ]
  },
  {
   "cell_type": "code",
   "execution_count": 3,
   "metadata": {},
   "outputs": [
    {
     "data": {
      "text/plain": [
       "['equity']"
      ]
     },
     "execution_count": 3,
     "metadata": {},
     "output_type": "execute_result"
    }
   ],
   "source": [
    "store.list_collections()"
   ]
  },
  {
   "cell_type": "code",
   "execution_count": 98,
   "metadata": {},
   "outputs": [
    {
     "data": {
      "text/plain": [
       "{'aapl', 'test'}"
      ]
     },
     "execution_count": 98,
     "metadata": {},
     "output_type": "execute_result"
    }
   ],
   "source": [
    "collection = store.collection(\"equity\")\n",
    "collection.list_items()"
   ]
  },
  {
   "cell_type": "code",
   "execution_count": 124,
   "metadata": {},
   "outputs": [],
   "source": [
    "collection.append(\"aapl\", test_data, metadata={\"ssas\": 6453})"
   ]
  },
  {
   "cell_type": "code",
   "execution_count": 97,
   "metadata": {},
   "outputs": [],
   "source": [
    "collection.write(\"test\", pd.DataFrame())"
   ]
  },
  {
   "cell_type": "code",
   "execution_count": 125,
   "metadata": {},
   "outputs": [
    {
     "data": {
      "text/plain": [
       "{'dfs': 4, '_updated': '2022-04-05 22:10:54.740953'}"
      ]
     },
     "execution_count": 125,
     "metadata": {},
     "output_type": "execute_result"
    }
   ],
   "source": [
    "collection.item(\"aapl\").metadata"
   ]
  },
  {
   "cell_type": "code",
   "execution_count": 82,
   "metadata": {},
   "outputs": [],
   "source": [
    "df = collection.item(\"aapl\").to_pandas()\n",
    "df.index = df.index.tz_localize(\"America/New_York\")"
   ]
  },
  {
   "cell_type": "code",
   "execution_count": 83,
   "metadata": {},
   "outputs": [
    {
     "data": {
      "text/plain": [
       "DatetimeIndex(['1980-12-12 00:00:00-05:00', '1980-12-15 00:00:00-05:00',\n",
       "               '1980-12-16 00:00:00-05:00', '1980-12-17 00:00:00-05:00',\n",
       "               '1980-12-18 00:00:00-05:00', '1980-12-19 00:00:00-05:00',\n",
       "               '1980-12-22 00:00:00-05:00', '1980-12-23 00:00:00-05:00',\n",
       "               '1980-12-24 00:00:00-05:00', '1980-12-26 00:00:00-05:00',\n",
       "               ...\n",
       "               '2022-03-23 00:00:00-04:00', '2022-03-24 00:00:00-04:00',\n",
       "               '2022-03-25 00:00:00-04:00', '2022-03-28 00:00:00-04:00',\n",
       "               '2022-03-29 00:00:00-04:00', '2022-03-30 00:00:00-04:00',\n",
       "               '2022-03-31 00:00:00-04:00', '2022-04-01 00:00:00-04:00',\n",
       "               '2022-04-04 00:00:00-04:00', '2022-04-05 00:00:00-04:00'],\n",
       "              dtype='datetime64[ns, America/New_York]', name='Date', length=10417, freq=None)"
      ]
     },
     "execution_count": 83,
     "metadata": {},
     "output_type": "execute_result"
    }
   ],
   "source": [
    "df.index"
   ]
  }
 ],
 "metadata": {
  "interpreter": {
   "hash": "13875518e1be3e42f2c88f315306faade0f2dd07eb2d623b9cbbde7edcb162b1"
  },
  "kernelspec": {
   "display_name": "Python 3.8.10 ('venv': venv)",
   "language": "python",
   "name": "python3"
  },
  "language_info": {
   "codemirror_mode": {
    "name": "ipython",
    "version": 3
   },
   "file_extension": ".py",
   "mimetype": "text/x-python",
   "name": "python",
   "nbconvert_exporter": "python",
   "pygments_lexer": "ipython3",
   "version": "3.8.10"
  },
  "orig_nbformat": 4
 },
 "nbformat": 4,
 "nbformat_minor": 2
}
